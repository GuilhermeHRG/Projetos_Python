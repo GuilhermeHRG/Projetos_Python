{
 "cells": [
  {
   "cell_type": "code",
   "execution_count": 1,
   "id": "f4e77487",
   "metadata": {},
   "outputs": [],
   "source": [
    "#!pip install pyautogui\n",
    "#!pip install pyperclip\n",
    "\n",
    "\n",
    "import pyautogui\n",
    "import pyperclip\n",
    "\n",
    "import time\n",
    "#numero=\"+5543999999\"\n",
    "pyautogui.hotkey(\"ctrl\", \"t\")\n",
    "num = \"https://api.whatsapp.com/send?phone=número da pessoa\"\n",
    "pyperclip.copy(num)\n",
    "pyautogui.hotkey(\"ctrl\", \"v\")\n",
    "pyautogui.press(\"enter\")\n",
    "\n",
    "## Aguardar para carregar o sistema antes de seguir\n",
    "time.sleep(2)\n",
    "\n",
    "texto =f\"\"\"\n",
    "mensagem\n",
    "\"\"\"\n",
    "#copiar o a mensagem\n",
    "pyperclip.copy(texto)\n",
    "pyautogui.PAUSE = 0.1\n",
    "#colar e enviar\n",
    "pyautogui.hotkey(\"ctrl\",\"v\")\n",
    "pyautogui.press(\"enter\")\n",
    "\n"
   ]
  },
  {
   "cell_type": "code",
   "execution_count": null,
   "id": "6bd9622b",
   "metadata": {},
   "outputs": [],
   "source": [
    "\n"
   ]
  },
  {
   "cell_type": "code",
   "execution_count": null,
   "id": "141f3e59",
   "metadata": {},
   "outputs": [],
   "source": []
  }
 ],
 "metadata": {
  "kernelspec": {
   "display_name": "Python 3 (ipykernel)",
   "language": "python",
   "name": "python3"
  },
  "language_info": {
   "codemirror_mode": {
    "name": "ipython",
    "version": 3
   },
   "file_extension": ".py",
   "mimetype": "text/x-python",
   "name": "python",
   "nbconvert_exporter": "python",
   "pygments_lexer": "ipython3",
   "version": "3.9.12"
  }
 },
 "nbformat": 4,
 "nbformat_minor": 5
}
